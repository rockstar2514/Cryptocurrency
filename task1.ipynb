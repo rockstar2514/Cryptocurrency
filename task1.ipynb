{
  "cells": [
    {
      "metadata": {
        "trusted": true
      },
      "cell_type": "code",
      "source": "import hashlib",
      "execution_count": 64,
      "outputs": []
    },
    {
      "metadata": {
        "trusted": true
      },
      "cell_type": "code",
      "source": "s=input()\nresult = hashlib.sha256(s.encode()) \nprint(result.hexdigest())  ",
      "execution_count": 65,
      "outputs": [
        {
          "output_type": "stream",
          "name": "stdout",
          "text": "dryairship\nc62e5bc680396423109256a4e7fd864d16adf175f90ad07fdd6c0b50a9008381\n"
        }
      ]
    },
    {
      "metadata": {
        "trusted": true
      },
      "cell_type": "code",
      "source": "for i in range (1000000):\n    curr=s+str(i)\n    newres=hashlib.sha256(curr.encode())\n    ans=newres.hexdigest()\n    if(int(ans,16)<0x0000FFFFFFFFFFFFFFFFFFFFFFFFFFFFFFFFFFFFFFFFFFFFFFFFFFFFFFFFFFFF):\n        print (curr)",
      "execution_count": 66,
      "outputs": [
        {
          "output_type": "stream",
          "text": "dryairship16962\ndryairship155916\ndryairship188500\ndryairship196946\ndryairship244902\ndryairship294236\ndryairship298158\ndryairship313534\ndryairship346708\ndryairship355958\ndryairship435612\ndryairship566751\ndryairship600879\ndryairship654029\ndryairship940861\ndryairship987888\n",
          "name": "stdout"
        }
      ]
    },
    {
      "metadata": {
        "trusted": true
      },
      "cell_type": "code",
      "source": "",
      "execution_count": null,
      "outputs": []
    }
  ],
  "metadata": {
    "kernelspec": {
      "name": "python36",
      "display_name": "Python 3.6",
      "language": "python"
    },
    "language_info": {
      "mimetype": "text/x-python",
      "nbconvert_exporter": "python",
      "name": "python",
      "pygments_lexer": "ipython3",
      "version": "3.6.6",
      "file_extension": ".py",
      "codemirror_mode": {
        "version": 3,
        "name": "ipython"
      }
    }
  },
  "nbformat": 4,
  "nbformat_minor": 2
}